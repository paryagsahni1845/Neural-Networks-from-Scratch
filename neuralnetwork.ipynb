{
 "cells": [
  {
   "cell_type": "code",
   "execution_count": 49,
   "id": "3041f127",
   "metadata": {},
   "outputs": [],
   "source": [
    "from sklearn.model_selection import train_test_split\n",
    "from sklearn.datasets import fetch_openml\n",
    "import numpy as np"
   ]
  },
  {
   "cell_type": "code",
   "execution_count": 50,
   "id": "abeb839b",
   "metadata": {},
   "outputs": [],
   "source": [
    "# Load MNIST (28x28 grayscale images of digits 0–9)\n",
    "mnist = fetch_openml('mnist_784', version=1)\n",
    "X = mnist[\"data\"] / 255.0                      # Normalize pixel values to 0–1\n",
    "y = mnist[\"target\"].astype(int)               # Convert labels from str to int"
   ]
  },
  {
   "cell_type": "code",
   "execution_count": 87,
   "id": "1c83f579",
   "metadata": {},
   "outputs": [
    {
     "data": {
      "image/png": "[encoded data removed]",
      "text/plain": [
       "<Figure size 640x480 with 1 Axes>"
      ]
     },
     "metadata": {},
     "output_type": "display_data"
    }
   ],
   "source": [
    "import matplotlib.pyplot as plt\n",
    "index = 5\n",
    "\n",
    "# Reshape the 784-length vector to 28x28\n",
    "image = X.iloc[index].values.reshape(28, 28)\n",
    "\n",
    "# Plot it\n",
    "plt.imshow(image, cmap='gray')\n",
    "plt.title(f\"Label: {y[index]}\")\n",
    "plt.axis('off')\n",
    "plt.show()\n"
   ]
  },
  {
   "cell_type": "markdown",
   "id": "7f652ab6",
   "metadata": {},
   "source": [
    "one hot encoding \n",
    "\n",
    "y_encoded will have shape (70000, 10) suitable for softmax + cross-entropy loss.\n",
    "This is needed for training a multi-class neural network."
   ]
  },
  {
   "cell_type": "code",
   "execution_count": 88,
   "id": "ab8319fd",
   "metadata": {},
   "outputs": [],
   "source": [
    "def one_hot_encode(y, num_classes=10):\n",
    "    return np.eye(num_classes)[y] # creates a 10×10 identity matrix.\n",
    "\n",
    "y_encoded = one_hot_encode(y)"
   ]
  },
  {
   "cell_type": "code",
   "execution_count": 89,
   "id": "ecac4488",
   "metadata": {},
   "outputs": [],
   "source": [
    "# Helper function\n",
    "def show_images(image, num_row=2, num_col=5):\n",
    "    # plot images\n",
    "    image_size = int(np.sqrt(image.shape[-1]))\n",
    "    image = np.reshape(image, (image.shape[0], image_size, image_size))\n",
    "    fig, axes = plt.subplots(num_row, num_col, figsize=(1.5*num_col,2*num_row))\n",
    "    for i in range(num_row*num_col):\n",
    "        ax = axes[i//num_col, i%num_col]\n",
    "        ax.imshow(image[i], cmap='gray', vmin=0, vmax=1)\n",
    "        ax.axis('off')\n",
    "    plt.tight_layout()\n",
    "    plt.show()"
   ]
  },
  {
   "cell_type": "code",
   "execution_count": 110,
   "id": "6cb8d829",
   "metadata": {},
   "outputs": [
    {
     "name": "stdout",
     "output_type": "stream",
     "text": [
      "Train shape: (56000, 784) (56000, 10)\n",
      "Test shape: (14000, 784) (14000, 10)\n"
     ]
    },
    {
     "data": {
      "image/png": "[encoded data removed]",
      "text/plain": [
       "<Figure size 750x400 with 10 Axes>"
      ]
     },
     "metadata": {},
     "output_type": "display_data"
    }
   ],
   "source": [
    "# Train-test split (80/20)\n",
    "\n",
    "X_train, X_test, y_train, y_test = train_test_split(\n",
    "    X, y_encoded, test_size=0.2, random_state=42 #ensures reproducibility of the split.\n",
    ")\n",
    "print(\"Train shape:\", X_train.shape, y_train.shape)\n",
    "print(\"Test shape:\", X_test.shape, y_test.shape)\n",
    "show_images(X_train)"
   ]
  },
  {
   "cell_type": "code",
   "execution_count": 111,
   "id": "388ef353",
   "metadata": {},
   "outputs": [],
   "source": [
    "X_train = np.array(X_train)\n",
    "X_test = np.array(X_test)\n",
    "y_train = np.array(y_train)\n",
    "y_test = np.array(y_test)\n"
   ]
  },
  {
   "cell_type": "markdown",
   "id": "6e6af146",
   "metadata": {},
   "source": [
    "Define Architecture and Initialize Parameters\n",
    "\n",
    "creating a 3-layer neural network with 784 input features, two hidden layers of sizes 128 and 64, and an output layer of 10 classes.\n",
    "The weights W1, W2, and W3 are randomly initialized with small values to break symmetry.\n",
    "Biases b1, b2, and b3 are initialized to zeros for each corresponding layer."
   ]
  },
  {
   "cell_type": "code",
   "execution_count": null,
   "id": "9bdabfe0",
   "metadata": {},
   "outputs": [
    {
     "name": "stdout",
     "output_type": "stream",
     "text": [
      "W1 shape: (784, 128)\n",
      "W2 shape: (128, 64)\n",
      "W3 shape: (64, 10)\n"
     ]
    }
   ],
   "source": [
    "# Input: 784 pixels, Hidden1: 128 units,hidden2:64 Output: 10 classes\n",
    "input_size = 784\n",
    "hidden_size = 128\n",
    "output_size = 10\n",
    "# Initialize weights and biases\n",
    "W1 = np.random.randn(784, 128) * 0.01\n",
    "b1 = np.zeros((1, 128))\n",
    "\n",
    "W2 = np.random.randn(128, 64) * 0.01\n",
    "b2 = np.zeros((1, 64))\n",
    "\n",
    "W3 = np.random.randn(64, 10) * 0.01\n",
    "b3 = np.zeros((1, 10))\n",
    "\n",
    "print(\"W1 shape:\", W1.shape)\n",
    "print(\"W2 shape:\", W2.shape)\n",
    "print(\"W3 shape:\", W3.shape)"
   ]
  },
  {
   "cell_type": "markdown",
   "id": "bbf11e3d",
   "metadata": {},
   "source": [
    "Activation Functions"
   ]
  },
  {
   "cell_type": "markdown",
   "id": "7bb4e582",
   "metadata": {},
   "source": [
    "ReLU is used in hidden layers to introduce non-linearity by setting all negative values to zero.\n",
    "This helps the network learn complex patterns without vanishing gradients.\n",
    "\n",
    "Softmax is used in the output layer to convert raw scores into probabilities.\n",
    "It ensures all output values lie between 0 and 1 and sum to 1 across classes.\n",
    "np.max subtraction is a stability trick to avoid numerical overflow during exponentiation.\n",
    "The final result is a probability distribution over 10 output classes."
   ]
  },
  {
   "cell_type": "code",
   "execution_count": 206,
   "id": "e830b531",
   "metadata": {},
   "outputs": [],
   "source": [
    "# ReLU for hidden layer\n",
    "def relu(x):\n",
    "    return np.maximum(0, x)\n",
    "\n",
    "# Softmax for output layer\n",
    "def softmax(x):\n",
    "    x = np.array(x)  # Ensure it's a NumPy array\n",
    "    x -= np.max(x, axis=1, keepdims=True)\n",
    "    exp_x = np.exp(x)\n",
    "    return exp_x / np.sum(exp_x, axis=1, keepdims=True)\n",
    "\n",
    "def dropout(A, rate=0.5):\n",
    "    mask = (np.random.rand(*A.shape) > rate).astype(np.float32)\n",
    "    return A * mask / (1 - rate)\n",
    "\n"
   ]
  },
  {
   "cell_type": "markdown",
   "id": "a2631836",
   "metadata": {},
   "source": [
    "Forward Pass Function"
   ]
  },
  {
   "cell_type": "markdown",
   "id": "6ab71b29",
   "metadata": {},
   "source": [
    "forward function performs a complete pass through the network computing z and applying activation functions \n",
    "return just A3 from forward() because it represents the final predictions."
   ]
  },
  {
   "cell_type": "code",
   "execution_count": 207,
   "id": "171139d8",
   "metadata": {},
   "outputs": [],
   "source": [
    "# Run forward pass on any batch\n",
    "def forward(X):\n",
    "    global Z1, A1, Z2, A2 ,Z3,A3 # Save for later use in backprop\n",
    "    Z1 = X @ W1 + b1       \n",
    "    A1 = relu(Z1)          \n",
    "    Z2 = A1 @ W2 + b2      \n",
    "    A2 = relu(Z2)       \n",
    "    Z3 = A2 @ W3 + b3\n",
    "    A3 = softmax(Z3)\n",
    "    return A3\n"
   ]
  },
  {
   "cell_type": "markdown",
   "id": "61fdcfb5",
   "metadata": {},
   "source": [
    "Test Forward Pass on a Batch"
   ]
  },
  {
   "cell_type": "markdown",
   "id": "0959bdc4",
   "metadata": {},
   "source": [
    "testing forward pass using a mini-batch of 32 training samples.\n",
    "Calling forward(batch_X) returns preds, which should be A3, i.e. output probabilities.\n",
    "Each prediction should be a vector of 10 values (for 10 classes).\n",
    "preds.shape should be (32, 10) and each row should sum to ~1 due to softmax.\n",
    "Printing the first prediction and its sum confirms the output format and normalization."
   ]
  },
  {
   "cell_type": "code",
   "execution_count": 208,
   "id": "a472fee7",
   "metadata": {},
   "outputs": [
    {
     "name": "stdout",
     "output_type": "stream",
     "text": [
      "Prediction shape: (32, 10)\n",
      "First prediction: [3.98408609e-14 3.23019940e-12 6.29870117e-19 3.82090341e-08\n",
      " 7.02138742e-18 9.99999960e-01 1.10007765e-09 1.03903862e-23\n",
      " 3.05292164e-10 7.07516965e-11]\n",
      "Sum of probs (should be ~1): 1.0\n"
     ]
    }
   ],
   "source": [
    "# Try a mini-batch of 32 images\n",
    "batch_X = X_train[:32]\n",
    "batch_y = y_train[:32]\n",
    "\n",
    "preds = forward(batch_X)\n",
    "\n",
    "print(\"Prediction shape:\", preds.shape)\n",
    "print(\"First prediction:\", preds[0])\n",
    "print(\"Sum of probs (should be ~1):\", np.sum(preds[0]))\n"
   ]
  },
  {
   "cell_type": "markdown",
   "id": "17808ce1",
   "metadata": {},
   "source": [
    "Cross-Entropy Loss"
   ]
  },
  {
   "cell_type": "markdown",
   "id": "e0e68857",
   "metadata": {},
   "source": [
    "y_true is one-hot encoded, y_pred is softmax output (probabilities).\n",
    "It calculates how far predicted probabilities are from the true labels.\n",
    "Adding 1e-9 avoids taking log(0), which would cause errors.\n",
    "-log(y_pred) is high if the model is confident but wrong giving a higher penalty.\n",
    "Averaging over m ensures the loss is normalized per example in the batch."
   ]
  },
  {
   "cell_type": "code",
   "execution_count": 209,
   "id": "c6970ad8",
   "metadata": {},
   "outputs": [
    {
     "name": "stdout",
     "output_type": "stream",
     "text": [
      "Loss: 0.0006870698572291888\n"
     ]
    }
   ],
   "source": [
    "# Cross-entropy loss for multi-class classification\n",
    "def cross_entropy(y_true, y_pred):\n",
    "    m = y_true.shape[0]  # batch size\n",
    "    log_probs = -np.log(y_pred + 1e-9)\n",
    "    loss = np.sum(y_true * log_probs) / m\n",
    "    return loss\n",
    "print(f'Loss: {loss}')\n"
   ]
  },
  {
   "cell_type": "markdown",
   "id": "18278d30",
   "metadata": {},
   "source": [
    "Backward Pass"
   ]
  },
  {
   "cell_type": "markdown",
   "id": "22a2fd32",
   "metadata": {},
   "source": [
    "using vanilla gradient descent with backpropagation using the chain rule."
   ]
  },
  {
   "cell_type": "code",
   "execution_count": 210,
   "id": "e5ceb638",
   "metadata": {},
   "outputs": [],
   "source": [
    "def backward(X, y_true, learning_rate=0.1):\n",
    "    global W1, b1, W2, b2, W3, b3  # Include all layers\n",
    "    m = X.shape[0]  # Batch size\n",
    "\n",
    "    # Layer 3 (output layer)\n",
    "    dZ3 = A3 - y_true                            # ∂L/∂Z3\n",
    "    dW3 = A2.T @ dZ3 / m                         # ∂L/∂W3\n",
    "    db3 = np.sum(dZ3, axis=0, keepdims=True) / m\n",
    "\n",
    "    # Layer 2 (hidden)\n",
    "    dA2 = dZ3 @ W3.T                             \n",
    "    dZ2 = dA2 * (Z2 > 0)                         # ReLU derivative\n",
    "    dW2 = A1.T @ dZ2 / m\n",
    "    db2 = np.sum(dZ2, axis=0, keepdims=True) / m\n",
    "\n",
    "    # Layer 1 (input → hidden1)\n",
    "    dA1 = dZ2 @ W2.T\n",
    "    dZ1 = dA1 * (Z1 > 0)                         # ReLU derivative\n",
    "    dW1 = X.T @ dZ1 / m\n",
    "    db1 = np.sum(dZ1, axis=0, keepdims=True) / m\n",
    "\n",
    "    # Update all weights and biases\n",
    "    W3 -= learning_rate * dW3\n",
    "    b3 -= learning_rate * db3\n",
    "    W2 -= learning_rate * dW2\n",
    "    b2 -= learning_rate * db2\n",
    "    W1 -= learning_rate * dW1\n",
    "    b1 -= learning_rate * db1\n"
   ]
  },
  {
   "cell_type": "markdown",
   "id": "66042db6",
   "metadata": {},
   "source": [
    "using sgd with momentum "
   ]
  },
  {
   "cell_type": "code",
   "execution_count": 211,
   "id": "4dfc82dd",
   "metadata": {},
   "outputs": [],
   "source": [
    "# Initialize velocity terms for momentum (do this ONCE before training)\n",
    "VdW1 = np.zeros_like(W1)\n",
    "Vdb1 = np.zeros_like(b1)\n",
    "VdW2 = np.zeros_like(W2)\n",
    "Vdb2 = np.zeros_like(b2)\n",
    "VdW3 = np.zeros_like(W3)\n",
    "Vdb3 = np.zeros_like(b3)\n",
    "\n",
    "def backward_sgd_momentum(X, y_true, learning_rate=0.1, momentum=0.9):\n",
    "    global W1, b1, W2, b2, W3, b3\n",
    "    global VdW1, Vdb1, VdW2, Vdb2, VdW3, Vdb3\n",
    "\n",
    "    m = X.shape[0]\n",
    "\n",
    "    # Gradients for output layer\n",
    "    dZ3 = A3 - y_true\n",
    "    dW3 = A2.T @ dZ3 / m\n",
    "    db3 = np.sum(dZ3, axis=0, keepdims=True) / m\n",
    "\n",
    "    # Gradients for hidden layer 2\n",
    "    dA2 = dZ3 @ W3.T\n",
    "    dZ2 = dA2 * (Z2 > 0)\n",
    "    dW2 = A1.T @ dZ2 / m\n",
    "    db2 = np.sum(dZ2, axis=0, keepdims=True) / m\n",
    "\n",
    "    # Gradients for hidden layer 1\n",
    "    dA1 = dZ2 @ W2.T\n",
    "    dZ1 = dA1 * (Z1 > 0)\n",
    "    dW1 = X.T @ dZ1 / m\n",
    "    db1 = np.sum(dZ1, axis=0, keepdims=True) / m\n",
    "\n",
    "    # Momentum update\n",
    "    VdW3 = momentum * VdW3 - learning_rate * dW3\n",
    "    Vdb3 = momentum * Vdb3 - learning_rate * db3\n",
    "    VdW2 = momentum * VdW2 - learning_rate * dW2\n",
    "    Vdb2 = momentum * Vdb2 - learning_rate * db2\n",
    "    VdW1 = momentum * VdW1 - learning_rate * dW1\n",
    "    Vdb1 = momentum * Vdb1 - learning_rate * db1\n",
    "\n",
    "    # Apply parameter update\n",
    "    W3 += VdW3\n",
    "    b3 += Vdb3\n",
    "    W2 += VdW2\n",
    "    b2 += Vdb2\n",
    "    W1 += VdW1\n",
    "    b1 += Vdb1\n"
   ]
  },
  {
   "cell_type": "markdown",
   "id": "6c74b443",
   "metadata": {},
   "source": [
    "Using Adam optimizer "
   ]
  },
  {
   "cell_type": "code",
   "execution_count": 212,
   "id": "52d1052f",
   "metadata": {},
   "outputs": [],
   "source": [
    "# Adam initialization \n",
    "t = 0  # timestep\n",
    "\n",
    "# Initialize m and v for all weights and biases\n",
    "mW1 = np.zeros_like(W1); vW1 = np.zeros_like(W1)\n",
    "mb1 = np.zeros_like(b1); vb1 = np.zeros_like(b1)\n",
    "\n",
    "mW2 = np.zeros_like(W2); vW2 = np.zeros_like(W2)\n",
    "mb2 = np.zeros_like(b2); vb2 = np.zeros_like(b2)\n",
    "\n",
    "mW3 = np.zeros_like(W3); vW3 = np.zeros_like(W3)\n",
    "mb3 = np.zeros_like(b3); vb3 = np.zeros_like(b3)\n",
    "\n",
    "def backward_adam(X, y_true, learning_rate=0.001, beta1=0.9, beta2=0.999, epsilon=1e-8):\n",
    "    global W1, b1, W2, b2, W3, b3\n",
    "    global mW1, vW1, mb1, vb1, mW2, vW2, mb2, vb2, mW3, vW3, mb3, vb3\n",
    "    global t\n",
    "\n",
    "    m = X.shape[0]\n",
    "    t += 1  # time step increment\n",
    "\n",
    "    # Gradients\n",
    "    dZ3 = A3 - y_true\n",
    "    dW3 = A2.T @ dZ3 / m\n",
    "    db3 = np.sum(dZ3, axis=0, keepdims=True) / m\n",
    "\n",
    "    dA2 = dZ3 @ W3.T\n",
    "    dZ2 = dA2 * (Z2 > 0)\n",
    "    dW2 = A1.T @ dZ2 / m\n",
    "    db2 = np.sum(dZ2, axis=0, keepdims=True) / m\n",
    "\n",
    "    dA1 = dZ2 @ W2.T\n",
    "    dZ1 = dA1 * (Z1 > 0)\n",
    "    dW1 = X.T @ dZ1 / m\n",
    "    db1 = np.sum(dZ1, axis=0, keepdims=True) / m\n",
    "\n",
    "    # Adam Updates \n",
    "    def update(param, grad, m, v):\n",
    "        m = beta1 * m + (1 - beta1) * grad\n",
    "        v = beta2 * v + (1 - beta2) * (grad ** 2)\n",
    "\n",
    "        m_hat = m / (1 - beta1 ** t)\n",
    "        v_hat = v / (1 - beta2 ** t)\n",
    "\n",
    "        param_update = learning_rate * m_hat / (np.sqrt(v_hat) + epsilon)\n",
    "        return param - param_update, m, v\n",
    "\n",
    "    # W1, b1\n",
    "    W1, mW1, vW1 = update(W1, dW1, mW1, vW1)\n",
    "    b1, mb1, vb1 = update(b1, db1, mb1, vb1)\n",
    "\n",
    "    # W2, b2\n",
    "    W2, mW2, vW2 = update(W2, dW2, mW2, vW2)\n",
    "    b2, mb2, vb2 = update(b2, db2, mb2, vb2)\n",
    "\n",
    "    # W3, b3\n",
    "    W3, mW3, vW3 = update(W3, dW3, mW3, vW3)\n",
    "    b3, mb3, vb3 = update(b3, db3, mb3, vb3)\n"
   ]
  },
  {
   "cell_type": "markdown",
   "id": "36975357",
   "metadata": {},
   "source": [
    "Mini Training Loop (Single Batch)"
   ]
  },
  {
   "cell_type": "markdown",
   "id": "e156b627",
   "metadata": {},
   "source": [
    "train neural network using different optimizers on a batch of 32 images."
   ]
  },
  {
   "cell_type": "code",
   "execution_count": 225,
   "id": "df9b6239",
   "metadata": {},
   "outputs": [
    {
     "name": "stdout",
     "output_type": "stream",
     "text": [
      "Epoch 0, Loss: 0.0008\n",
      "Epoch 1, Loss: 0.0003\n",
      "Epoch 2, Loss: 0.0000\n",
      "Epoch 3, Loss: 0.0000\n",
      "Epoch 4, Loss: 0.0000\n",
      "Epoch 5, Loss: 0.0000\n",
      "Epoch 6, Loss: 0.0000\n",
      "Epoch 7, Loss: 0.0000\n",
      "Epoch 8, Loss: 0.0000\n",
      "Epoch 9, Loss: 0.0000\n",
      "Epoch 10, Loss: 0.0000\n",
      "Epoch 11, Loss: 0.0000\n",
      "Epoch 12, Loss: 0.0000\n",
      "Epoch 13, Loss: 0.0000\n",
      "Epoch 14, Loss: 0.0000\n",
      "Epoch 15, Loss: 0.0000\n",
      "Epoch 16, Loss: 0.0000\n",
      "Epoch 17, Loss: 0.0000\n",
      "Epoch 18, Loss: 0.0000\n",
      "Epoch 19, Loss: 0.0000\n",
      "Epoch 20, Loss: 0.0000\n",
      "Epoch 21, Loss: 0.0000\n",
      "Epoch 22, Loss: 0.0000\n",
      "Epoch 23, Loss: 0.0000\n",
      "Epoch 24, Loss: 0.0000\n",
      "Epoch 25, Loss: 0.0000\n",
      "Epoch 26, Loss: 0.0000\n",
      "Epoch 27, Loss: 0.0000\n",
      "Epoch 28, Loss: 0.0000\n",
      "Epoch 29, Loss: 0.0000\n",
      "Epoch 30, Loss: 0.0000\n",
      "Epoch 31, Loss: 0.0000\n",
      "Epoch 32, Loss: 0.0000\n",
      "Epoch 33, Loss: 0.0000\n",
      "Epoch 34, Loss: 0.0000\n",
      "Epoch 35, Loss: 0.0000\n",
      "Epoch 36, Loss: 0.0000\n",
      "Epoch 37, Loss: 0.0000\n",
      "Epoch 38, Loss: 0.0000\n",
      "Epoch 39, Loss: 0.0000\n",
      "Epoch 40, Loss: 0.0000\n",
      "Epoch 41, Loss: 0.0000\n",
      "Epoch 42, Loss: 0.0000\n",
      "Epoch 43, Loss: 0.0000\n",
      "Epoch 44, Loss: 0.0000\n",
      "Epoch 45, Loss: 0.0000\n",
      "Epoch 46, Loss: 0.0000\n",
      "Epoch 47, Loss: 0.0000\n",
      "Epoch 48, Loss: 0.0000\n",
      "Epoch 49, Loss: 0.0000\n",
      "Epoch 50, Loss: 0.0000\n",
      "Epoch 51, Loss: 0.0000\n",
      "Epoch 52, Loss: 0.0000\n",
      "Epoch 53, Loss: 0.0000\n",
      "Epoch 54, Loss: 0.0000\n",
      "Epoch 55, Loss: 0.0000\n",
      "Epoch 56, Loss: 0.0000\n",
      "Epoch 57, Loss: 0.0000\n",
      "Epoch 58, Loss: 0.0000\n",
      "Epoch 59, Loss: 0.0000\n",
      "Epoch 60, Loss: 0.0000\n",
      "Epoch 61, Loss: 0.0000\n",
      "Epoch 62, Loss: 0.0000\n",
      "Epoch 63, Loss: 0.0000\n",
      "Epoch 64, Loss: 0.0000\n",
      "Epoch 65, Loss: 0.0000\n",
      "Epoch 66, Loss: 0.0000\n",
      "Epoch 67, Loss: 0.0000\n",
      "Epoch 68, Loss: 0.0000\n",
      "Epoch 69, Loss: 0.0000\n",
      "Epoch 70, Loss: 0.0000\n",
      "Epoch 71, Loss: 0.0000\n",
      "Epoch 72, Loss: 0.0000\n",
      "Epoch 73, Loss: 0.0000\n",
      "Epoch 74, Loss: 0.0000\n",
      "Epoch 75, Loss: 0.0000\n",
      "Epoch 76, Loss: 0.0000\n",
      "Epoch 77, Loss: 0.0000\n",
      "Epoch 78, Loss: 0.0000\n",
      "Epoch 79, Loss: 0.0000\n",
      "Epoch 80, Loss: 0.0000\n",
      "Epoch 81, Loss: 0.0000\n",
      "Epoch 82, Loss: 0.0000\n",
      "Epoch 83, Loss: 0.0000\n",
      "Epoch 84, Loss: 0.0000\n",
      "Epoch 85, Loss: 0.0000\n",
      "Epoch 86, Loss: 0.0000\n",
      "Epoch 87, Loss: 0.0000\n",
      "Epoch 88, Loss: 0.0000\n",
      "Epoch 89, Loss: 0.0000\n",
      "Epoch 90, Loss: 0.0000\n",
      "Epoch 91, Loss: 0.0000\n",
      "Epoch 92, Loss: 0.0000\n",
      "Epoch 93, Loss: 0.0000\n",
      "Epoch 94, Loss: 0.0000\n",
      "Epoch 95, Loss: 0.0000\n",
      "Epoch 96, Loss: 0.0000\n",
      "Epoch 97, Loss: 0.0000\n",
      "Epoch 98, Loss: 0.0000\n",
      "Epoch 99, Loss: 0.0000\n"
     ]
    }
   ],
   "source": [
    "# Get a batch of 32 samples\n",
    "batch_X = X_train[:128]\n",
    "batch_y = y_train[:128]\n",
    "\n",
    "for epoch in range(100):\n",
    "    preds = forward(batch_X)  # A3\n",
    "    loss = cross_entropy(batch_y, preds)\n",
    "    \n",
    "    backward_adam(batch_X, batch_y, learning_rate=0.001)  # or use backward_sgd_momentum\n",
    "\n",
    "    print(f\"Epoch {epoch}, Loss: {loss:.4f}\")\n"
   ]
  },
  {
   "cell_type": "markdown",
   "id": "864ca762",
   "metadata": {},
   "source": [
    "Accuracy Function"
   ]
  },
  {
   "cell_type": "markdown",
   "id": "6766a83f",
   "metadata": {},
   "source": [
    "The calculate_accuracy function measures how many predictions match the true labels. It first uses argmax on y_pred to get the predicted class for each sample. Then it does the same for y_true to get the actual class. By comparing both, it checks which predictions are correct. Finally, it returns the mean of correct matches as accuracy. This value ranges between 0 and 1."
   ]
  },
  {
   "cell_type": "code",
   "execution_count": 226,
   "id": "552b08ce",
   "metadata": {},
   "outputs": [
    {
     "name": "stdout",
     "output_type": "stream",
     "text": [
      "Accuracy: 1.0000\n"
     ]
    }
   ],
   "source": [
    "def calculate_accuracy(y_true, y_pred):\n",
    "    # Compare predicted class vs true class\n",
    "    predicted_labels = np.argmax(y_pred, axis=1)\n",
    "    true_labels = np.argmax(y_true, axis=1)\n",
    "    return np.mean(predicted_labels == true_labels)\n",
    "accuracy = calculate_accuracy(batch_y, preds)\n",
    "print(f\"Accuracy: {accuracy:.4f}\")"
   ]
  },
  {
   "cell_type": "markdown",
   "id": "6b78f6da",
   "metadata": {},
   "source": [
    "Evaluate on Any Dataset"
   ]
  },
  {
   "cell_type": "markdown",
   "id": "98563d69",
   "metadata": {},
   "source": [
    "checks model’s performance over the whole dataset in batches. It splits the data into chunks of batch_size, runs forward pass on each, and computes both loss and accuracy. These are summed up across all batches. In the end, it returns the average loss and average accuracy over all batches. This helps evaluate the model on large sets like test data."
   ]
  },
  {
   "cell_type": "code",
   "execution_count": 227,
   "id": "02112c96",
   "metadata": {},
   "outputs": [
    {
     "name": "stdout",
     "output_type": "stream",
     "text": [
      "Test Loss: 0.2187, Test Accuracy: 0.9584\n"
     ]
    }
   ],
   "source": [
    "def evaluate(X_data, y_data, batch_size=128):\n",
    "    total_loss = 0\n",
    "    total_acc = 0\n",
    "    num_batches = len(X_data) // batch_size\n",
    "\n",
    "    for i in range(num_batches):\n",
    "        X_batch = X_data[i*batch_size : (i+1)*batch_size]\n",
    "        y_batch = y_data[i*batch_size : (i+1)*batch_size]\n",
    "        preds = forward(X_batch)\n",
    "        loss = cross_entropy(y_batch, preds)\n",
    "        acc = calculate_accuracy(y_batch, preds)\n",
    "\n",
    "        total_loss += loss\n",
    "        total_acc += acc\n",
    "\n",
    "    return total_loss / num_batches, total_acc / num_batches\n",
    "loss, acc = evaluate(X_test, y_test)\n",
    "print(f\"Test Loss: {loss:.4f}, Test Accuracy: {acc:.4f}\")\n",
    "\n"
   ]
  },
  {
   "cell_type": "markdown",
   "id": "c344e828",
   "metadata": {},
   "source": [
    "Full Mini-Batch Training Loop"
   ]
  },
  {
   "cell_type": "markdown",
   "id": "451c6ee0",
   "metadata": {},
   "source": [
    "prints stats per epoch to monitor learning progress."
   ]
  },
  {
   "cell_type": "code",
   "execution_count": 228,
   "id": "7b23513c",
   "metadata": {},
   "outputs": [],
   "source": [
    "import matplotlib.pyplot as plt\n",
    "\n",
    "# Tracking lists\n",
    "train_losses = []\n",
    "val_losses = []\n",
    "train_accuracies = []\n",
    "val_accuracies = []\n",
    "\n",
    "def train(X_train, y_train, X_val, y_val, epochs=10, batch_size=128, learning_rate=0.1):\n",
    "    global train_losses, val_losses, train_accuracies, val_accuracies\n",
    "    train_losses = []\n",
    "    val_losses = []\n",
    "    train_accuracies = []\n",
    "    val_accuracies = []\n",
    "\n",
    "    for epoch in range(epochs):\n",
    "        # Shuffle training data\n",
    "        indices = np.arange(len(X_train))\n",
    "        np.random.shuffle(indices)\n",
    "        X_train = X_train[indices]\n",
    "        y_train = y_train[indices]\n",
    "\n",
    "        # Mini-batch training\n",
    "        for i in range(0, len(X_train), batch_size):\n",
    "            X_batch = X_train[i:i+batch_size]\n",
    "            y_batch = y_train[i:i+batch_size]\n",
    "\n",
    "            preds = forward(X_batch)\n",
    "            backward(X_batch, y_batch, learning_rate)\n",
    "\n",
    "        # Evaluate and log\n",
    "        train_loss, train_acc = evaluate(X_train, y_train)\n",
    "        val_loss, val_acc = evaluate(X_val, y_val)\n",
    "\n",
    "        train_losses.append(train_loss)\n",
    "        val_losses.append(val_loss)\n",
    "        train_accuracies.append(train_acc)\n",
    "        val_accuracies.append(val_acc)\n",
    "\n",
    "\n",
    "        print(f\"Epoch {epoch+1}:\")\n",
    "        print(f\"  Train Loss: {train_loss:.4f} | Accuracy: {train_acc:.4f}\")\n",
    "        print(f\"  Val   Loss: {val_loss:.4f} | Accuracy: {val_acc:.4f}\")\n"
   ]
  },
  {
   "cell_type": "code",
   "execution_count": 229,
   "id": "460ceeb3",
   "metadata": {},
   "outputs": [
    {
     "name": "stdout",
     "output_type": "stream",
     "text": [
      "Epoch 1:\n",
      "  Train Loss: 0.0035 | Accuracy: 0.9996\n",
      "  Val   Loss: 0.1180 | Accuracy: 0.9746\n",
      "Epoch 2:\n",
      "  Train Loss: 0.0021 | Accuracy: 0.9999\n",
      "  Val   Loss: 0.1167 | Accuracy: 0.9748\n",
      "Epoch 3:\n",
      "  Train Loss: 0.0017 | Accuracy: 1.0000\n",
      "  Val   Loss: 0.1151 | Accuracy: 0.9762\n",
      "Epoch 4:\n",
      "  Train Loss: 0.0014 | Accuracy: 1.0000\n",
      "  Val   Loss: 0.1146 | Accuracy: 0.9758\n",
      "Epoch 5:\n",
      "  Train Loss: 0.0013 | Accuracy: 1.0000\n",
      "  Val   Loss: 0.1154 | Accuracy: 0.9754\n",
      "Epoch 6:\n",
      "  Train Loss: 0.0012 | Accuracy: 1.0000\n",
      "  Val   Loss: 0.1160 | Accuracy: 0.9758\n",
      "Epoch 7:\n",
      "  Train Loss: 0.0012 | Accuracy: 1.0000\n",
      "  Val   Loss: 0.1155 | Accuracy: 0.9758\n",
      "Epoch 8:\n",
      "  Train Loss: 0.0011 | Accuracy: 1.0000\n",
      "  Val   Loss: 0.1159 | Accuracy: 0.9755\n",
      "Epoch 9:\n",
      "  Train Loss: 0.0012 | Accuracy: 1.0000\n",
      "  Val   Loss: 0.1171 | Accuracy: 0.9754\n",
      "Epoch 10:\n",
      "  Train Loss: 0.0011 | Accuracy: 1.0000\n",
      "  Val   Loss: 0.1161 | Accuracy: 0.9753\n"
     ]
    }
   ],
   "source": [
    "train(X_train, y_train, X_test, y_test, epochs=10, batch_size=128, learning_rate=0.1)\n"
   ]
  },
  {
   "cell_type": "code",
   "execution_count": 230,
   "id": "4401291e",
   "metadata": {},
   "outputs": [
    {
     "data": {
      "image/png": "[encoded data removed]",
      "text/plain": [
       "<Figure size 1200x500 with 2 Axes>"
      ]
     },
     "metadata": {},
     "output_type": "display_data"
    }
   ],
   "source": [
    "# Plot accuracy and loss curves\n",
    "epochs_range = range(1, len(train_losses)+1)\n",
    "\n",
    "plt.figure(figsize=(12, 5))\n",
    "\n",
    "# Accuracy Plot\n",
    "plt.subplot(1, 2, 1)\n",
    "plt.plot(epochs_range, train_accuracies, label='Train Accuracy')\n",
    "plt.plot(epochs_range, val_accuracies, label='Validation Accuracy')\n",
    "plt.title('Accuracy over Epochs')\n",
    "plt.xlabel('Epoch')\n",
    "plt.ylabel('Accuracy')\n",
    "plt.legend()\n",
    "\n",
    "# Loss Plot\n",
    "plt.subplot(1, 2, 2)\n",
    "plt.plot(epochs_range, train_losses, label='Train Loss')\n",
    "plt.plot(epochs_range, val_losses, label='Validation Loss')\n",
    "plt.title('Loss over Epochs')\n",
    "plt.xlabel('Epoch')\n",
    "plt.ylabel('Loss')\n",
    "plt.legend()\n",
    "\n",
    "plt.tight_layout()\n",
    "plt.show()\n"
   ]
  },
  {
   "cell_type": "code",
   "execution_count": null,
   "id": "2d6f2315",
   "metadata": {},
   "outputs": [],
   "source": []
  }
 ],
 "metadata": {
  "kernelspec": {
   "display_name": "base",
   "language": "python",
   "name": "python3"
  },
  "language_info": {
   "codemirror_mode": {
    "name": "ipython",
    "version": 3
   },
   "file_extension": ".py",
   "mimetype": "text/x-python",
   "name": "python",
   "nbconvert_exporter": "python",
   "pygments_lexer": "ipython3",
   "version": "3.12.4"
  }
 },
 "nbformat": 4,
 "nbformat_minor": 5
}
